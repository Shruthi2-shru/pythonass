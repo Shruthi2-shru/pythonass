{
 "cells": [
  {
   "cell_type": "code",
   "execution_count": 1,
   "id": "971d2e57",
   "metadata": {},
   "outputs": [],
   "source": [
    "from selenium import webdriver\n",
    "from selenium.webdriver.support.ui import Select\n",
    "import pandas as pd\n",
    "import time"
   ]
  },
  {
   "cell_type": "code",
   "execution_count": 2,
   "id": "38f62202",
   "metadata": {},
   "outputs": [
    {
     "data": {
      "text/plain": [
       "'C:\\\\shrupy\\\\chromedriver_win32 (3)\\\\chromedriver.exe'"
      ]
     },
     "execution_count": 2,
     "metadata": {},
     "output_type": "execute_result"
    }
   ],
   "source": [
    "driverPath = r\"C:\\shrupy\\chromedriver_win32 (3)\\chromedriver.exe\"\n",
    "driverPath"
   ]
  },
  {
   "cell_type": "code",
   "execution_count": 4,
   "id": "de4320b0",
   "metadata": {},
   "outputs": [],
   "source": [
    "\n",
    "driver = webdriver.Chrome(executable_path=driverPath)\n",
    "driver.get(\"https://ai.fmcsa.dot.gov/hhg/Search.asp?ads=a\")\n",
    "l=[]\n",
    "c=[]\n",
    "p=[]\n",
    "w=[]\n",
    "z=[]\n",
    "xn=[]\n",
    "s=driver.find_elements_by_xpath(\"//tbody/tr[2]/td[1]/map[1]//following::area['alt']\")\n",
    "for nnm in s:\n",
    "    xn.append(nnm.text)\n",
    "for i in range(1,len(s)+1):\n",
    "    try:\n",
    "            name=driver.find_element_by_xpath(\"//tbody/tr[2]/td[1]/map[1]/area[{}]\".format(i)).click()\n",
    "            a=driver.find_elements_by_xpath(\"//body[1]/table[1]/tbody[1]/tr[3]/td[1]/table[1]/tbody[1]/tr[2]/td[3]/table[1]/tbody[1]/tr[8]/td[1]/table[1]/tbody[1]/tr[2]/td[1]//following::a\")\n",
    "            for j in range(2,len(a)-10):\n",
    "                d=driver.find_elements_by_xpath(\"//body[1]/table[1]/tbody[1]/tr[3]/td[1]/table[1]/tbody[1]/tr[2]/td[3]/table[1]/tbody[1]/tr[8]/td[1]/table[1]/tbody[1]/tr[{}]/td[1]\".format(j))\n",
    "                b=driver.find_elements_by_xpath(\"//body[1]/table[1]/tbody[1]/tr[3]/td[1]/table[1]/tbody[1]/tr[2]/td[3]/table[1]/tbody[1]/tr[8]/td[1]/table[1]/tbody[1]/tr[{}]/td[2]\".format(j))\n",
    "                t=driver.find_elements_by_xpath(\"//body[1]/table[1]/tbody[1]/tr[3]/td[1]/table[1]/tbody[1]/tr[2]/td[3]/table[1]/tbody[1]/tr[8]/td[1]/table[1]/tbody[1]/tr[{}]/td[3]\".format(j))\n",
    "                u=driver.find_elements_by_xpath(\"//tbody/tr[{}]/td[4]\".format(j))\n",
    "                for n in d:\n",
    "                    p.append(n.text)\n",
    "                for m in b:\n",
    "                    c.append(m.text)\n",
    "                for x in t:\n",
    "                    w.append(x.text)\n",
    "                for v in u:\n",
    "                    z.append(v.text)\n",
    "            time.sleep(2)\n",
    "            driver.back()\n",
    "            driver.refresh()\n",
    "            df=pd.DataFrame(list(zip(p,c,w,z)), columns =[\"Company Name\",\"Headquarters Location\",\"Company Type\",\"Fleet Size\"])\n",
    "            df.to_excel(r\"C:\\Users\\Merit\\Shruthip\"+\"\\\\\"+\"State{}.xlsx\".format(i), index = False)\n",
    "            p.clear()\n",
    "            c.clear()\n",
    "            w.clear()\n",
    "            z.clear()\n",
    "            del df\n",
    "    except:\n",
    "        pass"
   ]
  },
  {
   "cell_type": "code",
   "execution_count": null,
   "id": "6c412191",
   "metadata": {},
   "outputs": [],
   "source": []
  }
 ],
 "metadata": {
  "kernelspec": {
   "display_name": "Python 3 (ipykernel)",
   "language": "python",
   "name": "python3"
  },
  "language_info": {
   "codemirror_mode": {
    "name": "ipython",
    "version": 3
   },
   "file_extension": ".py",
   "mimetype": "text/x-python",
   "name": "python",
   "nbconvert_exporter": "python",
   "pygments_lexer": "ipython3",
   "version": "3.9.6"
  }
 },
 "nbformat": 4,
 "nbformat_minor": 5
}
